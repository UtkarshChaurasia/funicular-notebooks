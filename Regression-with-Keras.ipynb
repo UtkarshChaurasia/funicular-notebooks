{
  "nbformat": 4,
  "nbformat_minor": 0,
  "metadata": {
    "kernelspec": {
      "display_name": "Python",
      "language": "python",
      "name": "conda-env-python-py"
    },
    "language_info": {
      "codemirror_mode": {
        "name": "ipython",
        "version": 3
      },
      "file_extension": ".py",
      "mimetype": "text/x-python",
      "name": "python",
      "nbconvert_exporter": "python",
      "pygments_lexer": "ipython3",
      "version": "3.6.7"
    },
    "colab": {
      "name": "DL0101EN-3-1-Regression-with-Keras-py-v1.0.ipynb",
      "provenance": []
    }
  },
  "cells": [
    {
      "cell_type": "markdown",
      "metadata": {
        "button": false,
        "deletable": true,
        "new_sheet": false,
        "run_control": {
          "read_only": false
        },
        "id": "-fqMQ94GUAPR",
        "colab_type": "text"
      },
      "source": [
        "\n",
        "\n",
        "<h1 align=center><font size = 5>Regression Models with Keras</font></h1>"
      ]
    },
    {
      "cell_type": "markdown",
      "metadata": {
        "button": false,
        "deletable": true,
        "new_sheet": false,
        "run_control": {
          "read_only": false
        },
        "id": "oU9O54FKUAPW",
        "colab_type": "text"
      },
      "source": [
        "## Introduction"
      ]
    },
    {
      "cell_type": "markdown",
      "metadata": {
        "button": false,
        "deletable": true,
        "new_sheet": false,
        "run_control": {
          "read_only": false
        },
        "id": "bDg-heYIUAPa",
        "colab_type": "text"
      },
      "source": [
        " \n",
        "Keras is a high-level API for building deep learning models. It has gained favor for its ease of use and syntactic simplicity facilitating fast development. As you will see in this lab and the other labs in this course, building a very complex deep learning network can be achieved with Keras with only few lines of code. You will appreciate Keras even more, once you learn how to build deep models using PyTorch and TensorFlow in the other courses.\n",
        "\n",
        "We will learn how to use the Keras library to build a regression model."
      ]
    },
    {
      "cell_type": "markdown",
      "metadata": {
        "button": false,
        "deletable": true,
        "new_sheet": false,
        "run_control": {
          "read_only": false
        },
        "id": "qYzRiOIqUAPg",
        "colab_type": "text"
      },
      "source": [
        "## Table of Contents\n",
        "\n",
        "<div class=\"alert alert-block alert-info\" style=\"margin-top: 20px\">\n",
        "\n",
        "<font size = 3>\n",
        "    \n",
        "1. <a href=\"#item31\">Download and Clean Dataset</a>  \n",
        "2. <a href=\"#item32\">Import Keras</a>  \n",
        "3. <a href=\"#item33\">Build a Neural Network</a>  \n",
        "4. <a href=\"#item34\">Train and Test the Network</a>  \n",
        "\n",
        "</font>\n",
        "</div>"
      ]
    },
    {
      "cell_type": "markdown",
      "metadata": {
        "button": false,
        "deletable": true,
        "new_sheet": false,
        "run_control": {
          "read_only": false
        },
        "id": "oliK5dhtUAPk",
        "colab_type": "text"
      },
      "source": [
        "<a id=\"item31\"></a>"
      ]
    },
    {
      "cell_type": "markdown",
      "metadata": {
        "button": false,
        "deletable": true,
        "new_sheet": false,
        "run_control": {
          "read_only": false
        },
        "id": "ng11f7qfUAPm",
        "colab_type": "text"
      },
      "source": [
        "## Download and Clean Dataset"
      ]
    },
    {
      "cell_type": "markdown",
      "metadata": {
        "button": false,
        "deletable": true,
        "new_sheet": false,
        "run_control": {
          "read_only": false
        },
        "id": "p7hcQlS3UAPo",
        "colab_type": "text"
      },
      "source": [
        "Let's start by importing the <em>pandas</em> and the Numpy libraries."
      ]
    },
    {
      "cell_type": "code",
      "metadata": {
        "button": false,
        "deletable": true,
        "new_sheet": false,
        "run_control": {
          "read_only": false
        },
        "id": "_EgQwZ1GUAPx",
        "colab_type": "code",
        "colab": {}
      },
      "source": [
        "import pandas as pd\n",
        "import numpy as np"
      ],
      "execution_count": 1,
      "outputs": []
    },
    {
      "cell_type": "markdown",
      "metadata": {
        "button": false,
        "deletable": true,
        "new_sheet": false,
        "run_control": {
          "read_only": false
        },
        "id": "UUK_EQUjUAP9",
        "colab_type": "text"
      },
      "source": [
        "\n",
        "\n",
        "<strong>The dataset is about the compressive strength of different samples of concrete based on the volumes of the different ingredients that were used to make them. Ingredients include:</strong>\n",
        "\n",
        "<strong>1. Cement</strong>\n",
        "\n",
        "<strong>2. Blast Furnace Slag</strong>\n",
        "\n",
        "<strong>3. Fly Ash</strong>\n",
        "\n",
        "<strong>4. Water</strong>\n",
        "\n",
        "<strong>5. Superplasticizer</strong>\n",
        "\n",
        "<strong>6. Coarse Aggregate</strong>\n",
        "\n",
        "<strong>7. Fine Aggregate</strong>"
      ]
    },
    {
      "cell_type": "markdown",
      "metadata": {
        "button": false,
        "deletable": true,
        "new_sheet": false,
        "run_control": {
          "read_only": false
        },
        "id": "u5s6B7u5UAQA",
        "colab_type": "text"
      },
      "source": [
        "Let's download the data and read it into a <em>pandas</em> dataframe."
      ]
    },
    {
      "cell_type": "code",
      "metadata": {
        "button": false,
        "deletable": true,
        "new_sheet": false,
        "run_control": {
          "read_only": false
        },
        "id": "e_AO8n4RUAQE",
        "colab_type": "code",
        "colab": {
          "base_uri": "https://localhost:8080/",
          "height": 206
        },
        "outputId": "cbbccb52-a2d4-40cc-9b01-69a57079f6d3"
      },
      "source": [
        "concrete_data = pd.read_csv('https://s3-api.us-geo.objectstorage.softlayer.net/cf-courses-data/CognitiveClass/DL0101EN/labs/data/concrete_data.csv')\n",
        "concrete_data.head()"
      ],
      "execution_count": 2,
      "outputs": [
        {
          "output_type": "execute_result",
          "data": {
            "text/html": [
              "<div>\n",
              "<style scoped>\n",
              "    .dataframe tbody tr th:only-of-type {\n",
              "        vertical-align: middle;\n",
              "    }\n",
              "\n",
              "    .dataframe tbody tr th {\n",
              "        vertical-align: top;\n",
              "    }\n",
              "\n",
              "    .dataframe thead th {\n",
              "        text-align: right;\n",
              "    }\n",
              "</style>\n",
              "<table border=\"1\" class=\"dataframe\">\n",
              "  <thead>\n",
              "    <tr style=\"text-align: right;\">\n",
              "      <th></th>\n",
              "      <th>Cement</th>\n",
              "      <th>Blast Furnace Slag</th>\n",
              "      <th>Fly Ash</th>\n",
              "      <th>Water</th>\n",
              "      <th>Superplasticizer</th>\n",
              "      <th>Coarse Aggregate</th>\n",
              "      <th>Fine Aggregate</th>\n",
              "      <th>Age</th>\n",
              "      <th>Strength</th>\n",
              "    </tr>\n",
              "  </thead>\n",
              "  <tbody>\n",
              "    <tr>\n",
              "      <th>0</th>\n",
              "      <td>540.0</td>\n",
              "      <td>0.0</td>\n",
              "      <td>0.0</td>\n",
              "      <td>162.0</td>\n",
              "      <td>2.5</td>\n",
              "      <td>1040.0</td>\n",
              "      <td>676.0</td>\n",
              "      <td>28</td>\n",
              "      <td>79.99</td>\n",
              "    </tr>\n",
              "    <tr>\n",
              "      <th>1</th>\n",
              "      <td>540.0</td>\n",
              "      <td>0.0</td>\n",
              "      <td>0.0</td>\n",
              "      <td>162.0</td>\n",
              "      <td>2.5</td>\n",
              "      <td>1055.0</td>\n",
              "      <td>676.0</td>\n",
              "      <td>28</td>\n",
              "      <td>61.89</td>\n",
              "    </tr>\n",
              "    <tr>\n",
              "      <th>2</th>\n",
              "      <td>332.5</td>\n",
              "      <td>142.5</td>\n",
              "      <td>0.0</td>\n",
              "      <td>228.0</td>\n",
              "      <td>0.0</td>\n",
              "      <td>932.0</td>\n",
              "      <td>594.0</td>\n",
              "      <td>270</td>\n",
              "      <td>40.27</td>\n",
              "    </tr>\n",
              "    <tr>\n",
              "      <th>3</th>\n",
              "      <td>332.5</td>\n",
              "      <td>142.5</td>\n",
              "      <td>0.0</td>\n",
              "      <td>228.0</td>\n",
              "      <td>0.0</td>\n",
              "      <td>932.0</td>\n",
              "      <td>594.0</td>\n",
              "      <td>365</td>\n",
              "      <td>41.05</td>\n",
              "    </tr>\n",
              "    <tr>\n",
              "      <th>4</th>\n",
              "      <td>198.6</td>\n",
              "      <td>132.4</td>\n",
              "      <td>0.0</td>\n",
              "      <td>192.0</td>\n",
              "      <td>0.0</td>\n",
              "      <td>978.4</td>\n",
              "      <td>825.5</td>\n",
              "      <td>360</td>\n",
              "      <td>44.30</td>\n",
              "    </tr>\n",
              "  </tbody>\n",
              "</table>\n",
              "</div>"
            ],
            "text/plain": [
              "   Cement  Blast Furnace Slag  Fly Ash  ...  Fine Aggregate  Age  Strength\n",
              "0   540.0                 0.0      0.0  ...           676.0   28     79.99\n",
              "1   540.0                 0.0      0.0  ...           676.0   28     61.89\n",
              "2   332.5               142.5      0.0  ...           594.0  270     40.27\n",
              "3   332.5               142.5      0.0  ...           594.0  365     41.05\n",
              "4   198.6               132.4      0.0  ...           825.5  360     44.30\n",
              "\n",
              "[5 rows x 9 columns]"
            ]
          },
          "metadata": {
            "tags": []
          },
          "execution_count": 2
        }
      ]
    },
    {
      "cell_type": "markdown",
      "metadata": {
        "button": false,
        "deletable": true,
        "new_sheet": false,
        "run_control": {
          "read_only": false
        },
        "id": "60CZ7qFAUAQQ",
        "colab_type": "text"
      },
      "source": [
        "So the first concrete sample has 540 cubic meter of cement, 0 cubic meter of blast furnace slag, 0 cubic meter of fly ash, 162 cubic meter of water, 2.5 cubic meter of superplaticizer, 1040 cubic meter of coarse aggregate, 676 cubic meter of fine aggregate. Such a concrete mix which is 28 days old, has a compressive strength of 79.99 MPa. "
      ]
    },
    {
      "cell_type": "markdown",
      "metadata": {
        "button": false,
        "deletable": true,
        "new_sheet": false,
        "run_control": {
          "read_only": false
        },
        "id": "ejCmuyo3UAQS",
        "colab_type": "text"
      },
      "source": [
        "#### Let's check how many data points we have."
      ]
    },
    {
      "cell_type": "code",
      "metadata": {
        "button": false,
        "deletable": true,
        "new_sheet": false,
        "run_control": {
          "read_only": false
        },
        "id": "CpzdX-RpUAQV",
        "colab_type": "code",
        "colab": {
          "base_uri": "https://localhost:8080/",
          "height": 34
        },
        "outputId": "71d693f9-d7d6-47e0-fbc7-3287e0ba5ac9"
      },
      "source": [
        "concrete_data.shape"
      ],
      "execution_count": 3,
      "outputs": [
        {
          "output_type": "execute_result",
          "data": {
            "text/plain": [
              "(1030, 9)"
            ]
          },
          "metadata": {
            "tags": []
          },
          "execution_count": 3
        }
      ]
    },
    {
      "cell_type": "markdown",
      "metadata": {
        "button": false,
        "deletable": true,
        "new_sheet": false,
        "run_control": {
          "read_only": false
        },
        "id": "if-QcXu1UAQc",
        "colab_type": "text"
      },
      "source": [
        "So, there are approximately 1000 samples to train our model on. Because of the few samples, we have to be careful not to overfit the training data."
      ]
    },
    {
      "cell_type": "markdown",
      "metadata": {
        "button": false,
        "deletable": true,
        "new_sheet": false,
        "run_control": {
          "read_only": false
        },
        "id": "s6j8dlBfUAQe",
        "colab_type": "text"
      },
      "source": [
        "Let's check the dataset for any missing values."
      ]
    },
    {
      "cell_type": "code",
      "metadata": {
        "button": false,
        "deletable": true,
        "new_sheet": false,
        "run_control": {
          "read_only": false
        },
        "id": "F5y39hPLUAQg",
        "colab_type": "code",
        "colab": {
          "base_uri": "https://localhost:8080/",
          "height": 300
        },
        "outputId": "90f81bd0-8e90-4e6a-f88a-567f06b038f0"
      },
      "source": [
        "concrete_data.describe()"
      ],
      "execution_count": 4,
      "outputs": [
        {
          "output_type": "execute_result",
          "data": {
            "text/html": [
              "<div>\n",
              "<style scoped>\n",
              "    .dataframe tbody tr th:only-of-type {\n",
              "        vertical-align: middle;\n",
              "    }\n",
              "\n",
              "    .dataframe tbody tr th {\n",
              "        vertical-align: top;\n",
              "    }\n",
              "\n",
              "    .dataframe thead th {\n",
              "        text-align: right;\n",
              "    }\n",
              "</style>\n",
              "<table border=\"1\" class=\"dataframe\">\n",
              "  <thead>\n",
              "    <tr style=\"text-align: right;\">\n",
              "      <th></th>\n",
              "      <th>Cement</th>\n",
              "      <th>Blast Furnace Slag</th>\n",
              "      <th>Fly Ash</th>\n",
              "      <th>Water</th>\n",
              "      <th>Superplasticizer</th>\n",
              "      <th>Coarse Aggregate</th>\n",
              "      <th>Fine Aggregate</th>\n",
              "      <th>Age</th>\n",
              "      <th>Strength</th>\n",
              "    </tr>\n",
              "  </thead>\n",
              "  <tbody>\n",
              "    <tr>\n",
              "      <th>count</th>\n",
              "      <td>1030.000000</td>\n",
              "      <td>1030.000000</td>\n",
              "      <td>1030.000000</td>\n",
              "      <td>1030.000000</td>\n",
              "      <td>1030.000000</td>\n",
              "      <td>1030.000000</td>\n",
              "      <td>1030.000000</td>\n",
              "      <td>1030.000000</td>\n",
              "      <td>1030.000000</td>\n",
              "    </tr>\n",
              "    <tr>\n",
              "      <th>mean</th>\n",
              "      <td>281.167864</td>\n",
              "      <td>73.895825</td>\n",
              "      <td>54.188350</td>\n",
              "      <td>181.567282</td>\n",
              "      <td>6.204660</td>\n",
              "      <td>972.918932</td>\n",
              "      <td>773.580485</td>\n",
              "      <td>45.662136</td>\n",
              "      <td>35.817961</td>\n",
              "    </tr>\n",
              "    <tr>\n",
              "      <th>std</th>\n",
              "      <td>104.506364</td>\n",
              "      <td>86.279342</td>\n",
              "      <td>63.997004</td>\n",
              "      <td>21.354219</td>\n",
              "      <td>5.973841</td>\n",
              "      <td>77.753954</td>\n",
              "      <td>80.175980</td>\n",
              "      <td>63.169912</td>\n",
              "      <td>16.705742</td>\n",
              "    </tr>\n",
              "    <tr>\n",
              "      <th>min</th>\n",
              "      <td>102.000000</td>\n",
              "      <td>0.000000</td>\n",
              "      <td>0.000000</td>\n",
              "      <td>121.800000</td>\n",
              "      <td>0.000000</td>\n",
              "      <td>801.000000</td>\n",
              "      <td>594.000000</td>\n",
              "      <td>1.000000</td>\n",
              "      <td>2.330000</td>\n",
              "    </tr>\n",
              "    <tr>\n",
              "      <th>25%</th>\n",
              "      <td>192.375000</td>\n",
              "      <td>0.000000</td>\n",
              "      <td>0.000000</td>\n",
              "      <td>164.900000</td>\n",
              "      <td>0.000000</td>\n",
              "      <td>932.000000</td>\n",
              "      <td>730.950000</td>\n",
              "      <td>7.000000</td>\n",
              "      <td>23.710000</td>\n",
              "    </tr>\n",
              "    <tr>\n",
              "      <th>50%</th>\n",
              "      <td>272.900000</td>\n",
              "      <td>22.000000</td>\n",
              "      <td>0.000000</td>\n",
              "      <td>185.000000</td>\n",
              "      <td>6.400000</td>\n",
              "      <td>968.000000</td>\n",
              "      <td>779.500000</td>\n",
              "      <td>28.000000</td>\n",
              "      <td>34.445000</td>\n",
              "    </tr>\n",
              "    <tr>\n",
              "      <th>75%</th>\n",
              "      <td>350.000000</td>\n",
              "      <td>142.950000</td>\n",
              "      <td>118.300000</td>\n",
              "      <td>192.000000</td>\n",
              "      <td>10.200000</td>\n",
              "      <td>1029.400000</td>\n",
              "      <td>824.000000</td>\n",
              "      <td>56.000000</td>\n",
              "      <td>46.135000</td>\n",
              "    </tr>\n",
              "    <tr>\n",
              "      <th>max</th>\n",
              "      <td>540.000000</td>\n",
              "      <td>359.400000</td>\n",
              "      <td>200.100000</td>\n",
              "      <td>247.000000</td>\n",
              "      <td>32.200000</td>\n",
              "      <td>1145.000000</td>\n",
              "      <td>992.600000</td>\n",
              "      <td>365.000000</td>\n",
              "      <td>82.600000</td>\n",
              "    </tr>\n",
              "  </tbody>\n",
              "</table>\n",
              "</div>"
            ],
            "text/plain": [
              "            Cement  Blast Furnace Slag  ...          Age     Strength\n",
              "count  1030.000000         1030.000000  ...  1030.000000  1030.000000\n",
              "mean    281.167864           73.895825  ...    45.662136    35.817961\n",
              "std     104.506364           86.279342  ...    63.169912    16.705742\n",
              "min     102.000000            0.000000  ...     1.000000     2.330000\n",
              "25%     192.375000            0.000000  ...     7.000000    23.710000\n",
              "50%     272.900000           22.000000  ...    28.000000    34.445000\n",
              "75%     350.000000          142.950000  ...    56.000000    46.135000\n",
              "max     540.000000          359.400000  ...   365.000000    82.600000\n",
              "\n",
              "[8 rows x 9 columns]"
            ]
          },
          "metadata": {
            "tags": []
          },
          "execution_count": 4
        }
      ]
    },
    {
      "cell_type": "code",
      "metadata": {
        "button": false,
        "deletable": true,
        "new_sheet": false,
        "run_control": {
          "read_only": false
        },
        "id": "940rS_2KUAQo",
        "colab_type": "code",
        "colab": {
          "base_uri": "https://localhost:8080/",
          "height": 191
        },
        "outputId": "963dd347-a673-4632-a121-9e7e1bc968ef"
      },
      "source": [
        "concrete_data.isnull().sum()"
      ],
      "execution_count": 5,
      "outputs": [
        {
          "output_type": "execute_result",
          "data": {
            "text/plain": [
              "Cement                0\n",
              "Blast Furnace Slag    0\n",
              "Fly Ash               0\n",
              "Water                 0\n",
              "Superplasticizer      0\n",
              "Coarse Aggregate      0\n",
              "Fine Aggregate        0\n",
              "Age                   0\n",
              "Strength              0\n",
              "dtype: int64"
            ]
          },
          "metadata": {
            "tags": []
          },
          "execution_count": 5
        }
      ]
    },
    {
      "cell_type": "markdown",
      "metadata": {
        "button": false,
        "deletable": true,
        "new_sheet": false,
        "run_control": {
          "read_only": false
        },
        "id": "Skx5bPpjUAQw",
        "colab_type": "text"
      },
      "source": [
        "The data looks very clean and is ready to be used to build our model."
      ]
    },
    {
      "cell_type": "markdown",
      "metadata": {
        "button": false,
        "deletable": true,
        "new_sheet": false,
        "run_control": {
          "read_only": false
        },
        "id": "M4UBakhPUAQx",
        "colab_type": "text"
      },
      "source": [
        "#### Split data into predictors and target"
      ]
    },
    {
      "cell_type": "markdown",
      "metadata": {
        "id": "5LShcY-MUAQy",
        "colab_type": "text"
      },
      "source": [
        "The target variable in this problem is the concrete sample strength. Therefore, our predictors will be all the other columns."
      ]
    },
    {
      "cell_type": "code",
      "metadata": {
        "button": false,
        "deletable": true,
        "new_sheet": false,
        "run_control": {
          "read_only": false
        },
        "id": "hE1PnLSTUAQ0",
        "colab_type": "code",
        "colab": {}
      },
      "source": [
        "concrete_data_columns = concrete_data.columns\n",
        "\n",
        "predictors = concrete_data[concrete_data_columns[concrete_data_columns != 'Strength']] # all columns except Strength\n",
        "target = concrete_data['Strength'] # Strength column"
      ],
      "execution_count": 6,
      "outputs": []
    },
    {
      "cell_type": "markdown",
      "metadata": {
        "button": false,
        "deletable": true,
        "new_sheet": false,
        "run_control": {
          "read_only": false
        },
        "id": "AbQiA-d-UAQ7",
        "colab_type": "text"
      },
      "source": [
        "<a id=\"item2\"></a>"
      ]
    },
    {
      "cell_type": "markdown",
      "metadata": {
        "button": false,
        "deletable": true,
        "new_sheet": false,
        "run_control": {
          "read_only": false
        },
        "id": "z5ajDxCoUAQ9",
        "colab_type": "text"
      },
      "source": [
        "Let's do a quick sanity check of the predictors and the target dataframes."
      ]
    },
    {
      "cell_type": "code",
      "metadata": {
        "button": false,
        "deletable": true,
        "new_sheet": false,
        "run_control": {
          "read_only": false
        },
        "id": "1Ghok_lOUARB",
        "colab_type": "code",
        "colab": {
          "base_uri": "https://localhost:8080/",
          "height": 206
        },
        "outputId": "8a9a490b-1339-4709-a846-3e56f5a595ff"
      },
      "source": [
        "predictors.head()"
      ],
      "execution_count": 7,
      "outputs": [
        {
          "output_type": "execute_result",
          "data": {
            "text/html": [
              "<div>\n",
              "<style scoped>\n",
              "    .dataframe tbody tr th:only-of-type {\n",
              "        vertical-align: middle;\n",
              "    }\n",
              "\n",
              "    .dataframe tbody tr th {\n",
              "        vertical-align: top;\n",
              "    }\n",
              "\n",
              "    .dataframe thead th {\n",
              "        text-align: right;\n",
              "    }\n",
              "</style>\n",
              "<table border=\"1\" class=\"dataframe\">\n",
              "  <thead>\n",
              "    <tr style=\"text-align: right;\">\n",
              "      <th></th>\n",
              "      <th>Cement</th>\n",
              "      <th>Blast Furnace Slag</th>\n",
              "      <th>Fly Ash</th>\n",
              "      <th>Water</th>\n",
              "      <th>Superplasticizer</th>\n",
              "      <th>Coarse Aggregate</th>\n",
              "      <th>Fine Aggregate</th>\n",
              "      <th>Age</th>\n",
              "    </tr>\n",
              "  </thead>\n",
              "  <tbody>\n",
              "    <tr>\n",
              "      <th>0</th>\n",
              "      <td>540.0</td>\n",
              "      <td>0.0</td>\n",
              "      <td>0.0</td>\n",
              "      <td>162.0</td>\n",
              "      <td>2.5</td>\n",
              "      <td>1040.0</td>\n",
              "      <td>676.0</td>\n",
              "      <td>28</td>\n",
              "    </tr>\n",
              "    <tr>\n",
              "      <th>1</th>\n",
              "      <td>540.0</td>\n",
              "      <td>0.0</td>\n",
              "      <td>0.0</td>\n",
              "      <td>162.0</td>\n",
              "      <td>2.5</td>\n",
              "      <td>1055.0</td>\n",
              "      <td>676.0</td>\n",
              "      <td>28</td>\n",
              "    </tr>\n",
              "    <tr>\n",
              "      <th>2</th>\n",
              "      <td>332.5</td>\n",
              "      <td>142.5</td>\n",
              "      <td>0.0</td>\n",
              "      <td>228.0</td>\n",
              "      <td>0.0</td>\n",
              "      <td>932.0</td>\n",
              "      <td>594.0</td>\n",
              "      <td>270</td>\n",
              "    </tr>\n",
              "    <tr>\n",
              "      <th>3</th>\n",
              "      <td>332.5</td>\n",
              "      <td>142.5</td>\n",
              "      <td>0.0</td>\n",
              "      <td>228.0</td>\n",
              "      <td>0.0</td>\n",
              "      <td>932.0</td>\n",
              "      <td>594.0</td>\n",
              "      <td>365</td>\n",
              "    </tr>\n",
              "    <tr>\n",
              "      <th>4</th>\n",
              "      <td>198.6</td>\n",
              "      <td>132.4</td>\n",
              "      <td>0.0</td>\n",
              "      <td>192.0</td>\n",
              "      <td>0.0</td>\n",
              "      <td>978.4</td>\n",
              "      <td>825.5</td>\n",
              "      <td>360</td>\n",
              "    </tr>\n",
              "  </tbody>\n",
              "</table>\n",
              "</div>"
            ],
            "text/plain": [
              "   Cement  Blast Furnace Slag  Fly Ash  ...  Coarse Aggregate  Fine Aggregate  Age\n",
              "0   540.0                 0.0      0.0  ...            1040.0           676.0   28\n",
              "1   540.0                 0.0      0.0  ...            1055.0           676.0   28\n",
              "2   332.5               142.5      0.0  ...             932.0           594.0  270\n",
              "3   332.5               142.5      0.0  ...             932.0           594.0  365\n",
              "4   198.6               132.4      0.0  ...             978.4           825.5  360\n",
              "\n",
              "[5 rows x 8 columns]"
            ]
          },
          "metadata": {
            "tags": []
          },
          "execution_count": 7
        }
      ]
    },
    {
      "cell_type": "code",
      "metadata": {
        "button": false,
        "deletable": true,
        "new_sheet": false,
        "run_control": {
          "read_only": false
        },
        "id": "B3JzcJ06UARH",
        "colab_type": "code",
        "colab": {
          "base_uri": "https://localhost:8080/",
          "height": 121
        },
        "outputId": "e1d6afc4-816b-4feb-dc0e-40c6f5135ce9"
      },
      "source": [
        "target.head()"
      ],
      "execution_count": 8,
      "outputs": [
        {
          "output_type": "execute_result",
          "data": {
            "text/plain": [
              "0    79.99\n",
              "1    61.89\n",
              "2    40.27\n",
              "3    41.05\n",
              "4    44.30\n",
              "Name: Strength, dtype: float64"
            ]
          },
          "metadata": {
            "tags": []
          },
          "execution_count": 8
        }
      ]
    },
    {
      "cell_type": "markdown",
      "metadata": {
        "button": false,
        "deletable": true,
        "new_sheet": false,
        "run_control": {
          "read_only": false
        },
        "id": "UnFQ6SlLUARS",
        "colab_type": "text"
      },
      "source": [
        "Finally, the last step is to normalize the data by substracting the mean and dividing by the standard deviation."
      ]
    },
    {
      "cell_type": "code",
      "metadata": {
        "button": false,
        "deletable": true,
        "new_sheet": false,
        "run_control": {
          "read_only": false
        },
        "id": "FaGOhKZQUARS",
        "colab_type": "code",
        "colab": {
          "base_uri": "https://localhost:8080/",
          "height": 206
        },
        "outputId": "a9971050-6889-4f3b-a539-d4a65d4801d6"
      },
      "source": [
        "predictors_norm = (predictors - predictors.mean()) / predictors.std()\n",
        "predictors_norm.head()"
      ],
      "execution_count": 9,
      "outputs": [
        {
          "output_type": "execute_result",
          "data": {
            "text/html": [
              "<div>\n",
              "<style scoped>\n",
              "    .dataframe tbody tr th:only-of-type {\n",
              "        vertical-align: middle;\n",
              "    }\n",
              "\n",
              "    .dataframe tbody tr th {\n",
              "        vertical-align: top;\n",
              "    }\n",
              "\n",
              "    .dataframe thead th {\n",
              "        text-align: right;\n",
              "    }\n",
              "</style>\n",
              "<table border=\"1\" class=\"dataframe\">\n",
              "  <thead>\n",
              "    <tr style=\"text-align: right;\">\n",
              "      <th></th>\n",
              "      <th>Cement</th>\n",
              "      <th>Blast Furnace Slag</th>\n",
              "      <th>Fly Ash</th>\n",
              "      <th>Water</th>\n",
              "      <th>Superplasticizer</th>\n",
              "      <th>Coarse Aggregate</th>\n",
              "      <th>Fine Aggregate</th>\n",
              "      <th>Age</th>\n",
              "    </tr>\n",
              "  </thead>\n",
              "  <tbody>\n",
              "    <tr>\n",
              "      <th>0</th>\n",
              "      <td>2.476712</td>\n",
              "      <td>-0.856472</td>\n",
              "      <td>-0.846733</td>\n",
              "      <td>-0.916319</td>\n",
              "      <td>-0.620147</td>\n",
              "      <td>0.862735</td>\n",
              "      <td>-1.217079</td>\n",
              "      <td>-0.279597</td>\n",
              "    </tr>\n",
              "    <tr>\n",
              "      <th>1</th>\n",
              "      <td>2.476712</td>\n",
              "      <td>-0.856472</td>\n",
              "      <td>-0.846733</td>\n",
              "      <td>-0.916319</td>\n",
              "      <td>-0.620147</td>\n",
              "      <td>1.055651</td>\n",
              "      <td>-1.217079</td>\n",
              "      <td>-0.279597</td>\n",
              "    </tr>\n",
              "    <tr>\n",
              "      <th>2</th>\n",
              "      <td>0.491187</td>\n",
              "      <td>0.795140</td>\n",
              "      <td>-0.846733</td>\n",
              "      <td>2.174405</td>\n",
              "      <td>-1.038638</td>\n",
              "      <td>-0.526262</td>\n",
              "      <td>-2.239829</td>\n",
              "      <td>3.551340</td>\n",
              "    </tr>\n",
              "    <tr>\n",
              "      <th>3</th>\n",
              "      <td>0.491187</td>\n",
              "      <td>0.795140</td>\n",
              "      <td>-0.846733</td>\n",
              "      <td>2.174405</td>\n",
              "      <td>-1.038638</td>\n",
              "      <td>-0.526262</td>\n",
              "      <td>-2.239829</td>\n",
              "      <td>5.055221</td>\n",
              "    </tr>\n",
              "    <tr>\n",
              "      <th>4</th>\n",
              "      <td>-0.790075</td>\n",
              "      <td>0.678079</td>\n",
              "      <td>-0.846733</td>\n",
              "      <td>0.488555</td>\n",
              "      <td>-1.038638</td>\n",
              "      <td>0.070492</td>\n",
              "      <td>0.647569</td>\n",
              "      <td>4.976069</td>\n",
              "    </tr>\n",
              "  </tbody>\n",
              "</table>\n",
              "</div>"
            ],
            "text/plain": [
              "     Cement  Blast Furnace Slag  ...  Fine Aggregate       Age\n",
              "0  2.476712           -0.856472  ...       -1.217079 -0.279597\n",
              "1  2.476712           -0.856472  ...       -1.217079 -0.279597\n",
              "2  0.491187            0.795140  ...       -2.239829  3.551340\n",
              "3  0.491187            0.795140  ...       -2.239829  5.055221\n",
              "4 -0.790075            0.678079  ...        0.647569  4.976069\n",
              "\n",
              "[5 rows x 8 columns]"
            ]
          },
          "metadata": {
            "tags": []
          },
          "execution_count": 9
        }
      ]
    },
    {
      "cell_type": "markdown",
      "metadata": {
        "id": "RtZi4mn9UARg",
        "colab_type": "text"
      },
      "source": [
        "Let's save the number of predictors to *n_cols* since we will need this number when building our network."
      ]
    },
    {
      "cell_type": "code",
      "metadata": {
        "button": false,
        "deletable": true,
        "new_sheet": false,
        "run_control": {
          "read_only": false
        },
        "id": "SbO0OnTlUARj",
        "colab_type": "code",
        "colab": {}
      },
      "source": [
        "n_cols = predictors_norm.shape[1] # number of predictors"
      ],
      "execution_count": 10,
      "outputs": []
    },
    {
      "cell_type": "markdown",
      "metadata": {
        "button": false,
        "deletable": true,
        "new_sheet": false,
        "run_control": {
          "read_only": false
        },
        "id": "v4XiNoTmUARq",
        "colab_type": "text"
      },
      "source": [
        "<a id=\"item1\"></a>"
      ]
    },
    {
      "cell_type": "markdown",
      "metadata": {
        "id": "Bbi2Zx2jUARu",
        "colab_type": "text"
      },
      "source": [
        "<a id='item32'></a>"
      ]
    },
    {
      "cell_type": "markdown",
      "metadata": {
        "button": false,
        "deletable": true,
        "new_sheet": false,
        "run_control": {
          "read_only": false
        },
        "id": "f4xAgncAUARv",
        "colab_type": "text"
      },
      "source": [
        "## Import Keras"
      ]
    },
    {
      "cell_type": "markdown",
      "metadata": {
        "button": false,
        "deletable": true,
        "new_sheet": false,
        "run_control": {
          "read_only": false
        },
        "id": "kdKibKmtUARw",
        "colab_type": "text"
      },
      "source": [
        "Keras normally runs on top of a low-level library such as TensorFlow. This means that to be able to use the Keras library, you will have to install TensorFlow first and when you import the Keras library, it will be explicitly displayed what backend was used to install the Keras library. We are using TensorFlow as the backend to install Keras, so it should clearly print that when we import Keras."
      ]
    },
    {
      "cell_type": "markdown",
      "metadata": {
        "button": false,
        "deletable": true,
        "new_sheet": false,
        "run_control": {
          "read_only": false
        },
        "id": "vwgwe0lTUARx",
        "colab_type": "text"
      },
      "source": [
        "#### Let's go ahead and import the Keras library"
      ]
    },
    {
      "cell_type": "code",
      "metadata": {
        "button": false,
        "deletable": true,
        "new_sheet": false,
        "run_control": {
          "read_only": false
        },
        "id": "4lQkHeb6UARy",
        "colab_type": "code",
        "colab": {
          "base_uri": "https://localhost:8080/",
          "height": 34
        },
        "outputId": "556efa03-d29d-431b-a29a-734bfd10262c"
      },
      "source": [
        "import keras"
      ],
      "execution_count": 11,
      "outputs": [
        {
          "output_type": "stream",
          "text": [
            "Using TensorFlow backend.\n"
          ],
          "name": "stderr"
        }
      ]
    },
    {
      "cell_type": "markdown",
      "metadata": {
        "button": false,
        "deletable": true,
        "new_sheet": false,
        "run_control": {
          "read_only": false
        },
        "id": "vvzuiS0eUAR7",
        "colab_type": "text"
      },
      "source": [
        "As you can see, the TensorFlow backend was used to install the Keras library."
      ]
    },
    {
      "cell_type": "markdown",
      "metadata": {
        "button": false,
        "deletable": true,
        "new_sheet": false,
        "run_control": {
          "read_only": false
        },
        "id": "pHrY1pTrUAR8",
        "colab_type": "text"
      },
      "source": [
        "Let's import the rest of the packages from the Keras library that we will need to build our regressoin model."
      ]
    },
    {
      "cell_type": "code",
      "metadata": {
        "button": false,
        "deletable": true,
        "new_sheet": false,
        "run_control": {
          "read_only": false
        },
        "id": "tENnN4SiUAR9",
        "colab_type": "code",
        "colab": {}
      },
      "source": [
        "from keras.models import Sequential\n",
        "from keras.layers import Dense"
      ],
      "execution_count": 12,
      "outputs": []
    },
    {
      "cell_type": "markdown",
      "metadata": {
        "id": "za5FaHMJUASE",
        "colab_type": "text"
      },
      "source": [
        "<a id='item33'></a>"
      ]
    },
    {
      "cell_type": "markdown",
      "metadata": {
        "button": false,
        "deletable": true,
        "new_sheet": false,
        "run_control": {
          "read_only": false
        },
        "id": "F_4wO7JDUASG",
        "colab_type": "text"
      },
      "source": [
        "## Build a Neural Network"
      ]
    },
    {
      "cell_type": "markdown",
      "metadata": {
        "button": false,
        "deletable": true,
        "new_sheet": false,
        "run_control": {
          "read_only": false
        },
        "id": "nhHu2nyXUASI",
        "colab_type": "text"
      },
      "source": [
        "Let's define a function that defines our regression model for us so that we can conveniently call it to create our model."
      ]
    },
    {
      "cell_type": "code",
      "metadata": {
        "button": false,
        "deletable": true,
        "new_sheet": false,
        "run_control": {
          "read_only": false
        },
        "id": "IXlUztgPUASI",
        "colab_type": "code",
        "colab": {}
      },
      "source": [
        "# define regression model\n",
        "def regression_model():\n",
        "    # create model\n",
        "    model = Sequential()\n",
        "    model.add(Dense(50, activation='relu', input_shape=(n_cols,)))\n",
        "    model.add(Dense(50, activation='relu'))\n",
        "    model.add(Dense(1))\n",
        "    \n",
        "    # compile model\n",
        "    model.compile(optimizer='adam', loss='mean_squared_error')\n",
        "    return model"
      ],
      "execution_count": 13,
      "outputs": []
    },
    {
      "cell_type": "markdown",
      "metadata": {
        "id": "ZHOJkFlQUASM",
        "colab_type": "text"
      },
      "source": [
        "The above function create a model that has two hidden layers, each of 50 hidden units."
      ]
    },
    {
      "cell_type": "markdown",
      "metadata": {
        "button": false,
        "deletable": true,
        "new_sheet": false,
        "run_control": {
          "read_only": false
        },
        "id": "4OUFQND4UASM",
        "colab_type": "text"
      },
      "source": [
        "<a id=\"item4\"></a>"
      ]
    },
    {
      "cell_type": "markdown",
      "metadata": {
        "id": "ha8prAQlUASO",
        "colab_type": "text"
      },
      "source": [
        "<a id='item34'></a>"
      ]
    },
    {
      "cell_type": "markdown",
      "metadata": {
        "button": false,
        "deletable": true,
        "new_sheet": false,
        "run_control": {
          "read_only": false
        },
        "id": "RpzM4gaiUASP",
        "colab_type": "text"
      },
      "source": [
        "## Train and Test the Network"
      ]
    },
    {
      "cell_type": "markdown",
      "metadata": {
        "id": "1Qagb9TPUASQ",
        "colab_type": "text"
      },
      "source": [
        "Let's call the function now to create our model."
      ]
    },
    {
      "cell_type": "code",
      "metadata": {
        "button": false,
        "deletable": true,
        "new_sheet": false,
        "run_control": {
          "read_only": false
        },
        "id": "e_qzkrJiUASQ",
        "colab_type": "code",
        "colab": {
          "base_uri": "https://localhost:8080/",
          "height": 278
        },
        "outputId": "41e23e73-481a-46de-e0f4-c86b5aaed846"
      },
      "source": [
        "# build the model\n",
        "model = regression_model()\n",
        "print(model.summary())"
      ],
      "execution_count": 16,
      "outputs": [
        {
          "output_type": "stream",
          "text": [
            "Model: \"sequential_3\"\n",
            "_________________________________________________________________\n",
            "Layer (type)                 Output Shape              Param #   \n",
            "=================================================================\n",
            "dense_7 (Dense)              (None, 50)                450       \n",
            "_________________________________________________________________\n",
            "dense_8 (Dense)              (None, 50)                2550      \n",
            "_________________________________________________________________\n",
            "dense_9 (Dense)              (None, 1)                 51        \n",
            "=================================================================\n",
            "Total params: 3,051\n",
            "Trainable params: 3,051\n",
            "Non-trainable params: 0\n",
            "_________________________________________________________________\n",
            "None\n"
          ],
          "name": "stdout"
        }
      ]
    },
    {
      "cell_type": "markdown",
      "metadata": {
        "id": "VnYIwj0WUASU",
        "colab_type": "text"
      },
      "source": [
        "Next, we will train and test the model at the same time using the *fit* method. We will leave out 30% of the data for validation and we will train the model for 100 epochs."
      ]
    },
    {
      "cell_type": "code",
      "metadata": {
        "id": "DJFxBgwxUASV",
        "colab_type": "code",
        "colab": {
          "base_uri": "https://localhost:8080/",
          "height": 1000
        },
        "outputId": "2e5b8ae9-2bac-43ed-c067-21cf241b247a"
      },
      "source": [
        "# fit the model\n",
        "model.fit(predictors_norm, target, validation_split=0.3, epochs=100, verbose=2)"
      ],
      "execution_count": 17,
      "outputs": [
        {
          "output_type": "stream",
          "text": [
            "Train on 721 samples, validate on 309 samples\n",
            "Epoch 1/100\n",
            " - 0s - loss: 1604.3457 - val_loss: 1110.8963\n",
            "Epoch 2/100\n",
            " - 0s - loss: 1431.1882 - val_loss: 957.9433\n",
            "Epoch 3/100\n",
            " - 0s - loss: 1148.2172 - val_loss: 736.9834\n",
            "Epoch 4/100\n",
            " - 0s - loss: 776.0344 - val_loss: 490.8450\n",
            "Epoch 5/100\n",
            " - 0s - loss: 439.4318 - val_loss: 296.9929\n",
            "Epoch 6/100\n",
            " - 0s - loss: 272.4258 - val_loss: 207.4649\n",
            "Epoch 7/100\n",
            " - 0s - loss: 231.7222 - val_loss: 184.9021\n",
            "Epoch 8/100\n",
            " - 0s - loss: 215.9571 - val_loss: 174.5606\n",
            "Epoch 9/100\n",
            " - 0s - loss: 203.7124 - val_loss: 169.1284\n",
            "Epoch 10/100\n",
            " - 0s - loss: 195.2565 - val_loss: 166.9781\n",
            "Epoch 11/100\n",
            " - 0s - loss: 187.5520 - val_loss: 163.4099\n",
            "Epoch 12/100\n",
            " - 0s - loss: 181.1837 - val_loss: 156.8024\n",
            "Epoch 13/100\n",
            " - 0s - loss: 176.4993 - val_loss: 157.8607\n",
            "Epoch 14/100\n",
            " - 0s - loss: 171.4411 - val_loss: 157.7518\n",
            "Epoch 15/100\n",
            " - 0s - loss: 167.5462 - val_loss: 156.9074\n",
            "Epoch 16/100\n",
            " - 0s - loss: 164.1424 - val_loss: 153.6028\n",
            "Epoch 17/100\n",
            " - 0s - loss: 160.3563 - val_loss: 154.8050\n",
            "Epoch 18/100\n",
            " - 0s - loss: 158.1808 - val_loss: 156.5983\n",
            "Epoch 19/100\n",
            " - 0s - loss: 155.4131 - val_loss: 155.4388\n",
            "Epoch 20/100\n",
            " - 0s - loss: 153.3714 - val_loss: 156.2448\n",
            "Epoch 21/100\n",
            " - 0s - loss: 151.3916 - val_loss: 156.9485\n",
            "Epoch 22/100\n",
            " - 0s - loss: 149.7145 - val_loss: 160.4299\n",
            "Epoch 23/100\n",
            " - 0s - loss: 147.7726 - val_loss: 159.9072\n",
            "Epoch 24/100\n",
            " - 0s - loss: 146.4667 - val_loss: 158.3140\n",
            "Epoch 25/100\n",
            " - 0s - loss: 145.4493 - val_loss: 161.6214\n",
            "Epoch 26/100\n",
            " - 0s - loss: 143.4174 - val_loss: 161.2922\n",
            "Epoch 27/100\n",
            " - 0s - loss: 142.0692 - val_loss: 162.4155\n",
            "Epoch 28/100\n",
            " - 0s - loss: 141.3142 - val_loss: 165.4934\n",
            "Epoch 29/100\n",
            " - 0s - loss: 139.3263 - val_loss: 163.1352\n",
            "Epoch 30/100\n",
            " - 0s - loss: 138.2285 - val_loss: 163.5552\n",
            "Epoch 31/100\n",
            " - 0s - loss: 137.2629 - val_loss: 165.2343\n",
            "Epoch 32/100\n",
            " - 0s - loss: 135.6090 - val_loss: 165.7505\n",
            "Epoch 33/100\n",
            " - 0s - loss: 134.8117 - val_loss: 166.0060\n",
            "Epoch 34/100\n",
            " - 0s - loss: 133.7133 - val_loss: 165.4552\n",
            "Epoch 35/100\n",
            " - 0s - loss: 132.2242 - val_loss: 163.5726\n",
            "Epoch 36/100\n",
            " - 0s - loss: 131.4701 - val_loss: 169.7091\n",
            "Epoch 37/100\n",
            " - 0s - loss: 129.9918 - val_loss: 166.4459\n",
            "Epoch 38/100\n",
            " - 0s - loss: 129.0917 - val_loss: 168.6078\n",
            "Epoch 39/100\n",
            " - 0s - loss: 128.1332 - val_loss: 165.9132\n",
            "Epoch 40/100\n",
            " - 0s - loss: 126.9709 - val_loss: 166.8480\n",
            "Epoch 41/100\n",
            " - 0s - loss: 125.7441 - val_loss: 164.7145\n",
            "Epoch 42/100\n",
            " - 0s - loss: 124.1349 - val_loss: 166.3286\n",
            "Epoch 43/100\n",
            " - 0s - loss: 123.0092 - val_loss: 167.2674\n",
            "Epoch 44/100\n",
            " - 0s - loss: 121.9036 - val_loss: 165.0875\n",
            "Epoch 45/100\n",
            " - 0s - loss: 120.3637 - val_loss: 163.4124\n",
            "Epoch 46/100\n",
            " - 0s - loss: 118.9292 - val_loss: 165.1025\n",
            "Epoch 47/100\n",
            " - 0s - loss: 117.6924 - val_loss: 165.0028\n",
            "Epoch 48/100\n",
            " - 0s - loss: 115.9741 - val_loss: 163.7668\n",
            "Epoch 49/100\n",
            " - 0s - loss: 115.1421 - val_loss: 161.5049\n",
            "Epoch 50/100\n",
            " - 0s - loss: 112.8704 - val_loss: 159.0268\n",
            "Epoch 51/100\n",
            " - 0s - loss: 110.8319 - val_loss: 162.6115\n",
            "Epoch 52/100\n",
            " - 0s - loss: 108.9273 - val_loss: 156.4072\n",
            "Epoch 53/100\n",
            " - 0s - loss: 107.0988 - val_loss: 156.6704\n",
            "Epoch 54/100\n",
            " - 0s - loss: 106.2991 - val_loss: 158.3049\n",
            "Epoch 55/100\n",
            " - 0s - loss: 102.7808 - val_loss: 152.0128\n",
            "Epoch 56/100\n",
            " - 0s - loss: 100.4679 - val_loss: 151.2532\n",
            "Epoch 57/100\n",
            " - 0s - loss: 99.2358 - val_loss: 150.3787\n",
            "Epoch 58/100\n",
            " - 0s - loss: 95.8798 - val_loss: 143.9537\n",
            "Epoch 59/100\n",
            " - 0s - loss: 93.3520 - val_loss: 140.9396\n",
            "Epoch 60/100\n",
            " - 0s - loss: 92.0468 - val_loss: 143.7021\n",
            "Epoch 61/100\n",
            " - 0s - loss: 88.3741 - val_loss: 135.8221\n",
            "Epoch 62/100\n",
            " - 0s - loss: 85.6603 - val_loss: 132.9928\n",
            "Epoch 63/100\n",
            " - 0s - loss: 83.3382 - val_loss: 133.1546\n",
            "Epoch 64/100\n",
            " - 0s - loss: 80.3486 - val_loss: 131.1303\n",
            "Epoch 65/100\n",
            " - 0s - loss: 78.5915 - val_loss: 124.2420\n",
            "Epoch 66/100\n",
            " - 0s - loss: 76.1213 - val_loss: 126.7200\n",
            "Epoch 67/100\n",
            " - 0s - loss: 73.3364 - val_loss: 123.8868\n",
            "Epoch 68/100\n",
            " - 0s - loss: 70.7038 - val_loss: 119.8143\n",
            "Epoch 69/100\n",
            " - 0s - loss: 68.5566 - val_loss: 115.9770\n",
            "Epoch 70/100\n",
            " - 0s - loss: 66.3975 - val_loss: 117.6781\n",
            "Epoch 71/100\n",
            " - 0s - loss: 64.5309 - val_loss: 111.4953\n",
            "Epoch 72/100\n",
            " - 0s - loss: 62.9325 - val_loss: 112.3615\n",
            "Epoch 73/100\n",
            " - 0s - loss: 60.6112 - val_loss: 113.6121\n",
            "Epoch 74/100\n",
            " - 0s - loss: 58.4962 - val_loss: 105.4704\n",
            "Epoch 75/100\n",
            " - 0s - loss: 57.0390 - val_loss: 109.6555\n",
            "Epoch 76/100\n",
            " - 0s - loss: 54.8530 - val_loss: 109.6885\n",
            "Epoch 77/100\n",
            " - 0s - loss: 53.6878 - val_loss: 107.7110\n",
            "Epoch 78/100\n",
            " - 0s - loss: 52.0293 - val_loss: 112.3838\n",
            "Epoch 79/100\n",
            " - 0s - loss: 50.9406 - val_loss: 106.4810\n",
            "Epoch 80/100\n",
            " - 0s - loss: 49.5140 - val_loss: 107.6139\n",
            "Epoch 81/100\n",
            " - 0s - loss: 47.7904 - val_loss: 104.6079\n",
            "Epoch 82/100\n",
            " - 0s - loss: 46.7715 - val_loss: 102.6942\n",
            "Epoch 83/100\n",
            " - 0s - loss: 45.8823 - val_loss: 105.1504\n",
            "Epoch 84/100\n",
            " - 0s - loss: 44.4600 - val_loss: 104.2697\n",
            "Epoch 85/100\n",
            " - 0s - loss: 43.0679 - val_loss: 109.5018\n",
            "Epoch 86/100\n",
            " - 0s - loss: 42.0734 - val_loss: 103.8129\n",
            "Epoch 87/100\n",
            " - 0s - loss: 41.4192 - val_loss: 109.4138\n",
            "Epoch 88/100\n",
            " - 0s - loss: 41.1353 - val_loss: 108.1796\n",
            "Epoch 89/100\n",
            " - 0s - loss: 39.6648 - val_loss: 109.9516\n",
            "Epoch 90/100\n",
            " - 0s - loss: 39.3444 - val_loss: 109.1743\n",
            "Epoch 91/100\n",
            " - 0s - loss: 38.0227 - val_loss: 114.2417\n",
            "Epoch 92/100\n",
            " - 0s - loss: 37.9956 - val_loss: 106.3882\n",
            "Epoch 93/100\n",
            " - 0s - loss: 37.0917 - val_loss: 107.6959\n",
            "Epoch 94/100\n",
            " - 0s - loss: 36.7811 - val_loss: 106.7566\n",
            "Epoch 95/100\n",
            " - 0s - loss: 36.0504 - val_loss: 121.1878\n",
            "Epoch 96/100\n",
            " - 0s - loss: 35.5813 - val_loss: 105.9158\n",
            "Epoch 97/100\n",
            " - 0s - loss: 35.2363 - val_loss: 108.1566\n",
            "Epoch 98/100\n",
            " - 0s - loss: 35.6083 - val_loss: 110.0289\n",
            "Epoch 99/100\n",
            " - 0s - loss: 34.0531 - val_loss: 111.7654\n",
            "Epoch 100/100\n",
            " - 0s - loss: 34.3254 - val_loss: 120.7426\n"
          ],
          "name": "stdout"
        },
        {
          "output_type": "execute_result",
          "data": {
            "text/plain": [
              "<keras.callbacks.callbacks.History at 0x7f31a1a17588>"
            ]
          },
          "metadata": {
            "tags": []
          },
          "execution_count": 17
        }
      ]
    },
    {
      "cell_type": "markdown",
      "metadata": {
        "button": false,
        "deletable": true,
        "new_sheet": false,
        "run_control": {
          "read_only": false
        },
        "id": "KenwyzHrUASp",
        "colab_type": "text"
      },
      "source": [
        "<strong>You can refer to this [link](https://keras.io/models/sequential/) to learn about other functions that you can use for prediction or evaluation.</strong>"
      ]
    }
  ]
}