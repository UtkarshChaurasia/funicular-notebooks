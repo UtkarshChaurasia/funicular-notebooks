{
  "nbformat": 4,
  "nbformat_minor": 0,
  "metadata": {
    "kernelspec": {
      "display_name": "Python",
      "language": "python",
      "name": "conda-env-python-py"
    },
    "language_info": {
      "codemirror_mode": {
        "name": "ipython",
        "version": 3
      },
      "file_extension": ".py",
      "mimetype": "text/x-python",
      "name": "python",
      "nbconvert_exporter": "python",
      "pygments_lexer": "ipython3",
      "version": "3.6.10"
    },
    "colab": {
      "name": "DL0101EN-1-1-Forward-Propgation-py-v1.0(1).ipynb",
      "provenance": []
    }
  },
  "cells": [
    {
      "cell_type": "markdown",
      "metadata": {
        "button": false,
        "deletable": true,
        "new_sheet": false,
        "run_control": {
          "read_only": false
        },
        "id": "RkKOQ2o-EoNW",
        "colab_type": "text"
      },
      "source": [
        "## Introduction\n"
      ]
    },
    {
      "cell_type": "markdown",
      "metadata": {
        "button": false,
        "deletable": true,
        "new_sheet": false,
        "run_control": {
          "read_only": false
        },
        "id": "pCbVAlv5EoNZ",
        "colab_type": "text"
      },
      "source": [
        "We will build a neural network from scratch and code how it performs predictions using forward propagation. Please note that all deep learning libraries have the entire training and prediction processes implemented."
      ]
    },
    {
      "cell_type": "markdown",
      "metadata": {
        "button": false,
        "deletable": true,
        "new_sheet": false,
        "run_control": {
          "read_only": false
        },
        "id": "nkrOKc_2EoNh",
        "colab_type": "text"
      },
      "source": [
        "## Table of Contents\n",
        "\n",
        "<div class=\"alert alert-block alert-info\" style=\"margin-top: 20px\">\n",
        "\n",
        "<font size = 3>    \n",
        "\n",
        "1. <a href=\"#item11\">Intro</a>\n",
        "2. <a href=\"#item12\">Initalize a Network</a>  \n",
        "3. <a href=\"#item13\">Compute Weighted Sum at Each Node</a>  \n",
        "4. <a href=\"#item14\">Compute Node Activation</a>  \n",
        "5. <a href=\"#item15\">Forward Propagation</a>\n",
        "\n",
        "</font>\n",
        "    \n",
        "</div>"
      ]
    },
    {
      "cell_type": "markdown",
      "metadata": {
        "button": false,
        "deletable": true,
        "new_sheet": false,
        "run_control": {
          "read_only": false
        },
        "id": "2gjfWQyVEoNm",
        "colab_type": "text"
      },
      "source": [
        "<a id=\"item1\"></a>"
      ]
    },
    {
      "cell_type": "markdown",
      "metadata": {
        "id": "z_N6BVGBEoNo",
        "colab_type": "text"
      },
      "source": [
        "<a id='item11'></a>"
      ]
    },
    {
      "cell_type": "markdown",
      "metadata": {
        "button": false,
        "deletable": true,
        "new_sheet": false,
        "run_control": {
          "read_only": false
        },
        "id": "MesvKg57EoNr",
        "colab_type": "text"
      },
      "source": [
        "# Intro"
      ]
    },
    {
      "cell_type": "markdown",
      "metadata": {
        "button": false,
        "deletable": true,
        "new_sheet": false,
        "run_control": {
          "read_only": false
        },
        "id": "niArwVpvEoN0",
        "colab_type": "text"
      },
      "source": [
        "How a neural network makes predictions through the forward propagation process. Here is a neural network that takes two inputs, has one hidden layer with two nodes, and an output layer with one node."
      ]
    },
    {
      "cell_type": "markdown",
      "metadata": {
        "button": false,
        "deletable": true,
        "new_sheet": false,
        "run_control": {
          "read_only": false
        },
        "id": "xnj2JF-qEoN2",
        "colab_type": "text"
      },
      "source": [
        "   "
      ]
    },
    {
      "cell_type": "markdown",
      "metadata": {
        "button": false,
        "deletable": true,
        "new_sheet": false,
        "run_control": {
          "read_only": false
        },
        "id": "KXYObOO6EoN4",
        "colab_type": "text"
      },
      "source": [
        "<img src=\"http://cocl.us/neural_network_example\" alt=\"Neural Network Example\" width=600px>"
      ]
    },
    {
      "cell_type": "markdown",
      "metadata": {
        "button": false,
        "deletable": true,
        "new_sheet": false,
        "run_control": {
          "read_only": false
        },
        "id": "071HAia0EoN5",
        "colab_type": "text"
      },
      "source": [
        "  "
      ]
    },
    {
      "cell_type": "markdown",
      "metadata": {
        "button": false,
        "deletable": true,
        "new_sheet": false,
        "run_control": {
          "read_only": false
        },
        "id": "1s14pdXREoN8",
        "colab_type": "text"
      },
      "source": [
        "Let's start by randomly initializing the weights and the biases in the network. We have 6 weights and 3 biases, one for each node in the hidden layer as well as for each node in the output layer."
      ]
    },
    {
      "cell_type": "code",
      "metadata": {
        "button": false,
        "deletable": true,
        "new_sheet": false,
        "run_control": {
          "read_only": false
        },
        "id": "yGJh9l7NEoN-",
        "colab_type": "code",
        "colab": {}
      },
      "source": [
        "import numpy as np # import Numpy library to generate \n",
        "\n",
        "weights = np.around(np.random.uniform(size=6), decimals=2) # initialize the weights\n",
        "biases = np.around(np.random.uniform(size=3), decimals=2) # initialize the biases"
      ],
      "execution_count": 26,
      "outputs": []
    },
    {
      "cell_type": "markdown",
      "metadata": {
        "button": false,
        "deletable": true,
        "new_sheet": false,
        "run_control": {
          "read_only": false
        },
        "id": "GEXVWaJKEoOI",
        "colab_type": "text"
      },
      "source": [
        "Let's print the weights and biases for sanity check."
      ]
    },
    {
      "cell_type": "code",
      "metadata": {
        "button": false,
        "deletable": true,
        "new_sheet": false,
        "run_control": {
          "read_only": false
        },
        "id": "1lv8AAZMEoOK",
        "colab_type": "code",
        "colab": {
          "base_uri": "https://localhost:8080/",
          "height": 52
        },
        "outputId": "28a863a4-6d39-4a0a-e026-73d82724e95f"
      },
      "source": [
        "print(weights)\n",
        "print(biases)"
      ],
      "execution_count": 27,
      "outputs": [
        {
          "output_type": "stream",
          "text": [
            "[0.39 0.58 0.43 0.08 0.3  0.31]\n",
            "[0.52 0.34 0.66]\n"
          ],
          "name": "stdout"
        }
      ]
    },
    {
      "cell_type": "markdown",
      "metadata": {
        "button": false,
        "deletable": true,
        "new_sheet": false,
        "run_control": {
          "read_only": false
        },
        "id": "HuZ1yzJ3EoOU",
        "colab_type": "text"
      },
      "source": [
        "Now that we have the weights and the biases defined for the network, let's compute the output for a given input, $x_1$ and $x_2$."
      ]
    },
    {
      "cell_type": "code",
      "metadata": {
        "button": false,
        "deletable": true,
        "new_sheet": false,
        "run_control": {
          "read_only": false
        },
        "id": "cGvh11xNEoOW",
        "colab_type": "code",
        "colab": {
          "base_uri": "https://localhost:8080/",
          "height": 34
        },
        "outputId": "e2cde674-4410-446c-852b-865babfb0612"
      },
      "source": [
        "x_1 = 0.5 # input 1\n",
        "x_2 = 0.85 # input 2\n",
        "\n",
        "print('x1 is {} and x2 is {}'.format(x_1, x_2))"
      ],
      "execution_count": 28,
      "outputs": [
        {
          "output_type": "stream",
          "text": [
            "x1 is 0.5 and x2 is 0.85\n"
          ],
          "name": "stdout"
        }
      ]
    },
    {
      "cell_type": "markdown",
      "metadata": {
        "button": false,
        "deletable": true,
        "new_sheet": false,
        "run_control": {
          "read_only": false
        },
        "id": "kURbqpQyEoOd",
        "colab_type": "text"
      },
      "source": [
        "Let's start by computing the wighted sum of the inputs, $z_{1, 1}$, at the first node of the hidden layer."
      ]
    },
    {
      "cell_type": "code",
      "metadata": {
        "button": false,
        "deletable": true,
        "new_sheet": false,
        "run_control": {
          "read_only": false
        },
        "id": "42dHBSHREoOg",
        "colab_type": "code",
        "colab": {
          "base_uri": "https://localhost:8080/",
          "height": 34
        },
        "outputId": "36ab0c0a-fede-4a70-93bc-6ece0de433de"
      },
      "source": [
        "z_11 = x_1 * weights[0] + x_2 * weights[1] + biases[0]\n",
        "\n",
        "print('The weighted sum of the inputs at the first node in the hidden layer is {}'.format(z_11))"
      ],
      "execution_count": 29,
      "outputs": [
        {
          "output_type": "stream",
          "text": [
            "The weighted sum of the inputs at the first node in the hidden layer is 1.208\n"
          ],
          "name": "stdout"
        }
      ]
    },
    {
      "cell_type": "markdown",
      "metadata": {
        "button": false,
        "deletable": true,
        "new_sheet": false,
        "run_control": {
          "read_only": false
        },
        "id": "c0WHZjsOEoOm",
        "colab_type": "text"
      },
      "source": [
        "Next, let's compute the weighted sum of the inputs, $z_{1, 2}$, at the second node of the hidden layer. Assign the value to **z_12**."
      ]
    },
    {
      "cell_type": "code",
      "metadata": {
        "button": false,
        "deletable": true,
        "new_sheet": false,
        "run_control": {
          "read_only": false
        },
        "id": "lJB9lhvSEoOn",
        "colab_type": "code",
        "colab": {
          "base_uri": "https://localhost:8080/",
          "height": 34
        },
        "outputId": "96dff606-9db9-4366-c796-6ec44812240b"
      },
      "source": [
        "z_12 = x_1 * weights[2] + x_2 * weights[3] + biases[1]\n",
        "print('The weighted sum of the inputs at the second node in the hidden layer is {}'.format(z_12))"
      ],
      "execution_count": 30,
      "outputs": [
        {
          "output_type": "stream",
          "text": [
            "The weighted sum of the inputs at the second node in the hidden layer is 0.623\n"
          ],
          "name": "stdout"
        }
      ]
    },
    {
      "cell_type": "markdown",
      "metadata": {
        "button": false,
        "deletable": true,
        "new_sheet": false,
        "run_control": {
          "read_only": false
        },
        "id": "CQGVGAxpEoOw",
        "colab_type": "text"
      },
      "source": [
        "Next, assuming a sigmoid activation function, let's compute the activation of the first node, $a_{1, 1}$, in the hidden layer."
      ]
    },
    {
      "cell_type": "code",
      "metadata": {
        "button": false,
        "deletable": true,
        "new_sheet": false,
        "run_control": {
          "read_only": false
        },
        "id": "InzvR6CnEoOy",
        "colab_type": "code",
        "colab": {
          "base_uri": "https://localhost:8080/",
          "height": 34
        },
        "outputId": "444821df-5698-44c5-a763-92d3a8dbdc50"
      },
      "source": [
        "a_11 = 1.0 / (1.0 + np.exp(-z_11))\n",
        "\n",
        "print('The activation of the first node in the hidden layer is {}'.format(np.around(a_11, decimals=4)))"
      ],
      "execution_count": 31,
      "outputs": [
        {
          "output_type": "stream",
          "text": [
            "The activation of the first node in the hidden layer is 0.7699\n"
          ],
          "name": "stdout"
        }
      ]
    },
    {
      "cell_type": "markdown",
      "metadata": {
        "button": false,
        "deletable": true,
        "new_sheet": false,
        "run_control": {
          "read_only": false
        },
        "id": "k4PvmFhcEoO8",
        "colab_type": "text"
      },
      "source": [
        "Let's also compute the activation of the second node, $a_{1, 2}$, in the hidden layer. Assign the value to **a_12**."
      ]
    },
    {
      "cell_type": "code",
      "metadata": {
        "button": false,
        "deletable": true,
        "new_sheet": false,
        "run_control": {
          "read_only": false
        },
        "id": "n5WTKJWJEoO-",
        "colab_type": "code",
        "colab": {
          "base_uri": "https://localhost:8080/",
          "height": 34
        },
        "outputId": "7bc6f41b-2337-4b66-ff7d-18f61898da41"
      },
      "source": [
        "a_12 = 1.0 / (1.0 + np.exp(-z_12))\n",
        "print('The activation of the second node in the hidden layer is {}'.format(np.around(a_12, decimals=4)))"
      ],
      "execution_count": 32,
      "outputs": [
        {
          "output_type": "stream",
          "text": [
            "The activation of the second node in the hidden layer is 0.6509\n"
          ],
          "name": "stdout"
        }
      ]
    },
    {
      "cell_type": "markdown",
      "metadata": {
        "button": false,
        "deletable": true,
        "new_sheet": false,
        "run_control": {
          "read_only": false
        },
        "id": "dT7JHAS6EoPF",
        "colab_type": "text"
      },
      "source": [
        "Now these activations will serve as the inputs to the output layer. So, let's compute the weighted sum of these inputs to the node in the output layer. Assign the value to **z_2**."
      ]
    },
    {
      "cell_type": "code",
      "metadata": {
        "button": false,
        "deletable": true,
        "new_sheet": false,
        "run_control": {
          "read_only": false
        },
        "id": "cApZ3nIkEoPH",
        "colab_type": "code",
        "colab": {
          "base_uri": "https://localhost:8080/",
          "height": 34
        },
        "outputId": "e71bbe1b-5b02-4fc5-f617-6ffd1640411c"
      },
      "source": [
        "z_2 = a_11 * weights[4] + a_12 * weights[5] + biases[2]\n",
        "print('The weighted sum of the inputs at output layer is {}'.format(np.around(z_2, decimals=4)))"
      ],
      "execution_count": 33,
      "outputs": [
        {
          "output_type": "stream",
          "text": [
            "The weighted sum of the inputs at output layer is 1.0928\n"
          ],
          "name": "stdout"
        }
      ]
    },
    {
      "cell_type": "code",
      "metadata": {
        "button": false,
        "deletable": true,
        "new_sheet": false,
        "run_control": {
          "read_only": false
        },
        "id": "wa_rkgQxEoPQ",
        "colab_type": "code",
        "colab": {
          "base_uri": "https://localhost:8080/",
          "height": 34
        },
        "outputId": "c9121469-c6ae-4544-8676-26362fa04d4f"
      },
      "source": [
        "print('The weighted sum of the inputs at the node in the output layer is {}'.format(np.around(z_2, decimals=4)))"
      ],
      "execution_count": 34,
      "outputs": [
        {
          "output_type": "stream",
          "text": [
            "The weighted sum of the inputs at the node in the output layer is 1.0928\n"
          ],
          "name": "stdout"
        }
      ]
    },
    {
      "cell_type": "markdown",
      "metadata": {
        "button": false,
        "deletable": true,
        "new_sheet": false,
        "run_control": {
          "read_only": false
        },
        "id": "AfoAfKN7EoPd",
        "colab_type": "text"
      },
      "source": [
        "Finally, let's compute the output of the network as the activation of the node in the output layer. Assign the value to **a_2**."
      ]
    },
    {
      "cell_type": "code",
      "metadata": {
        "button": false,
        "deletable": true,
        "new_sheet": false,
        "run_control": {
          "read_only": false
        },
        "id": "fkSwq88EEoPe",
        "colab_type": "code",
        "colab": {}
      },
      "source": [
        "a_2 = 1.0 / (1.0 + np.exp(-z_2))"
      ],
      "execution_count": 35,
      "outputs": []
    },
    {
      "cell_type": "markdown",
      "metadata": {
        "button": false,
        "deletable": true,
        "new_sheet": false,
        "run_control": {
          "read_only": false
        },
        "id": "04rHcEYaEoPl",
        "colab_type": "text"
      },
      "source": [
        "Print the activation of the node in the output layer which is equivalent to the prediction made by the network."
      ]
    },
    {
      "cell_type": "code",
      "metadata": {
        "button": false,
        "deletable": true,
        "new_sheet": false,
        "run_control": {
          "read_only": false
        },
        "id": "uuUAwmZ0EoPo",
        "colab_type": "code",
        "colab": {
          "base_uri": "https://localhost:8080/",
          "height": 34
        },
        "outputId": "966d4eac-1d51-49e2-8fcd-dcd8d5704773"
      },
      "source": [
        "print('The output of the network for x1 = 0.5 and x2 = 0.85 is {}'.format(np.around(a_2, decimals=4)))"
      ],
      "execution_count": 36,
      "outputs": [
        {
          "output_type": "stream",
          "text": [
            "The output of the network for x1 = 0.5 and x2 = 0.85 is 0.7489\n"
          ],
          "name": "stdout"
        }
      ]
    },
    {
      "cell_type": "markdown",
      "metadata": {
        "button": false,
        "deletable": true,
        "new_sheet": false,
        "run_control": {
          "read_only": false
        },
        "id": "hqpY6djhEoPx",
        "colab_type": "text"
      },
      "source": [
        "<hr>"
      ]
    },
    {
      "cell_type": "markdown",
      "metadata": {
        "button": false,
        "deletable": true,
        "new_sheet": false,
        "run_control": {
          "read_only": false
        },
        "id": "briwvwB7EoPz",
        "colab_type": "text"
      },
      "source": [
        "Obviously, neural networks for real problems are composed of many hidden layers and many more nodes in each layer. So, we can't continue making predictions using this very inefficient approach of computing the weighted sum at each node and the activation of each node manually. "
      ]
    },
    {
      "cell_type": "markdown",
      "metadata": {
        "button": false,
        "deletable": true,
        "new_sheet": false,
        "run_control": {
          "read_only": false
        },
        "id": "tk7SpAEcEoP2",
        "colab_type": "text"
      },
      "source": [
        "In order to code an automatic way of making predictions, let's generalize our network. A general network would take $n$ inputs, would have many hidden layers, each hidden layer having $m$ nodes, and would have an output layer. Although the network is showing one hidden layer, but we will code the network to have many hidden layers. Similarly, although the network shows an output layer with one node, we will code the network to have more than one node in the output layer."
      ]
    },
    {
      "cell_type": "markdown",
      "metadata": {
        "button": false,
        "deletable": true,
        "new_sheet": false,
        "run_control": {
          "read_only": false
        },
        "id": "RfiuHZerEoP3",
        "colab_type": "text"
      },
      "source": [
        "<img src=\"http://cocl.us/general_neural_network\" alt=\"Neural Network General\" width=600px>"
      ]
    },
    {
      "cell_type": "markdown",
      "metadata": {
        "button": false,
        "deletable": true,
        "new_sheet": false,
        "run_control": {
          "read_only": false
        },
        "id": "ZhpguPiTEoP5",
        "colab_type": "text"
      },
      "source": [
        "<a id=\"item2\"></a>"
      ]
    },
    {
      "cell_type": "markdown",
      "metadata": {
        "id": "jSR0_O_wEoP6",
        "colab_type": "text"
      },
      "source": [
        "<a id='item12'></a>"
      ]
    },
    {
      "cell_type": "markdown",
      "metadata": {
        "button": false,
        "deletable": true,
        "new_sheet": false,
        "run_control": {
          "read_only": false
        },
        "id": "nObPa8avEoP8",
        "colab_type": "text"
      },
      "source": [
        "## Initialize a Network"
      ]
    },
    {
      "cell_type": "markdown",
      "metadata": {
        "button": false,
        "deletable": true,
        "new_sheet": false,
        "run_control": {
          "read_only": false
        },
        "id": "SjV5SyZPEoP9",
        "colab_type": "text"
      },
      "source": [
        "Let's start by formally defining the structure of the network."
      ]
    },
    {
      "cell_type": "code",
      "metadata": {
        "button": false,
        "deletable": true,
        "jupyter": {
          "outputs_hidden": true
        },
        "new_sheet": false,
        "run_control": {
          "read_only": false
        },
        "id": "h49dykSZEoP-",
        "colab_type": "code",
        "colab": {}
      },
      "source": [
        "n = 2 # number of inputs\n",
        "num_hidden_layers = 2 # number of hidden layers\n",
        "m = [2, 2] # number of nodes in each hidden layer\n",
        "num_nodes_output = 1 # number of nodes in the output layer"
      ],
      "execution_count": 37,
      "outputs": []
    },
    {
      "cell_type": "markdown",
      "metadata": {
        "button": false,
        "deletable": true,
        "new_sheet": false,
        "run_control": {
          "read_only": false
        },
        "id": "bYFlVjDKEoQF",
        "colab_type": "text"
      },
      "source": [
        "Now that we defined the structure of the network, let's go ahead and inititailize the weights and the biases in the network to random numbers. In order to be able to initialize the weights and the biases to random numbers, we will need to import the **Numpy** library."
      ]
    },
    {
      "cell_type": "code",
      "metadata": {
        "button": false,
        "deletable": true,
        "jupyter": {
          "outputs_hidden": true
        },
        "new_sheet": false,
        "run_control": {
          "read_only": false
        },
        "id": "oYo3nhyREoQF",
        "colab_type": "code",
        "colab": {
          "base_uri": "https://localhost:8080/",
          "height": 54
        },
        "outputId": "2f95f7ad-631f-4e24-d687-b1dca0bb7421"
      },
      "source": [
        "import numpy as np # import the Numpy library\n",
        "\n",
        "num_nodes_previous = n # number of nodes in the previous layer\n",
        "\n",
        "network = {} # initialize network as an empty dictionary\n",
        "\n",
        "# loop through each layer and randomly initialize the weights and biases associated with each node\n",
        "# notice how we are adding 1 to the number of hidden layers in order to include the output layer\n",
        "for layer in range(num_hidden_layers + 1): \n",
        "    \n",
        "    # determine name of layer\n",
        "    if layer == num_hidden_layers:\n",
        "        layer_name = 'output'\n",
        "        num_nodes = num_nodes_output\n",
        "    else:\n",
        "        layer_name = 'layer_{}'.format(layer + 1)\n",
        "        num_nodes = m[layer]\n",
        "    \n",
        "    # initialize weights and biases associated with each node in the current layer\n",
        "    network[layer_name] = {}\n",
        "    for node in range(num_nodes):\n",
        "        node_name = 'node_{}'.format(node+1)\n",
        "        network[layer_name][node_name] = {\n",
        "            'weights': np.around(np.random.uniform(size=num_nodes_previous), decimals=2),\n",
        "            'bias': np.around(np.random.uniform(size=1), decimals=2),\n",
        "        }\n",
        "    \n",
        "    num_nodes_previous = num_nodes\n",
        "    \n",
        "print(network) # print network"
      ],
      "execution_count": 38,
      "outputs": [
        {
          "output_type": "stream",
          "text": [
            "{'layer_1': {'node_1': {'weights': array([0.85, 0.79]), 'bias': array([0.55])}, 'node_2': {'weights': array([0.21, 0.37]), 'bias': array([0.22])}}, 'layer_2': {'node_1': {'weights': array([0.93, 0.15]), 'bias': array([0.37])}, 'node_2': {'weights': array([0.81, 0.82]), 'bias': array([0.84])}}, 'output': {'node_1': {'weights': array([0.67, 0.93]), 'bias': array([0.22])}}}\n"
          ],
          "name": "stdout"
        }
      ]
    },
    {
      "cell_type": "markdown",
      "metadata": {
        "button": false,
        "deletable": true,
        "new_sheet": false,
        "run_control": {
          "read_only": false
        },
        "id": "QPdULUHGEoQK",
        "colab_type": "text"
      },
      "source": [
        "Awesome! So now with the above code, we are able to initialize the weights and the biases pertaining to any network of any number of hidden layers and number of nodes in each layer. But let's put this code in a function so that we are able to repetitively execute all this code whenever we want to construct a neural network.\n"
      ]
    },
    {
      "cell_type": "code",
      "metadata": {
        "button": false,
        "deletable": true,
        "jupyter": {
          "outputs_hidden": true
        },
        "new_sheet": false,
        "run_control": {
          "read_only": false
        },
        "id": "GyWEmCYUEoQL",
        "colab_type": "code",
        "colab": {}
      },
      "source": [
        "def initialize_network(num_inputs, num_hidden_layers, num_nodes_hidden, num_nodes_output):\n",
        "    \n",
        "    num_nodes_previous = num_inputs # number of nodes in the previous layer\n",
        "\n",
        "    network = {}\n",
        "    \n",
        "    # loop through each layer and randomly initialize the weights and biases associated with each layer\n",
        "    for layer in range(num_hidden_layers + 1):\n",
        "        \n",
        "        if layer == num_hidden_layers:\n",
        "            layer_name = 'output' # name last layer in the network output\n",
        "            num_nodes = num_nodes_output\n",
        "        else:\n",
        "            layer_name = 'layer_{}'.format(layer + 1) # otherwise give the layer a number\n",
        "            num_nodes = num_nodes_hidden[layer] \n",
        "        \n",
        "        # initialize weights and bias for each node\n",
        "        network[layer_name] = {}\n",
        "        for node in range(num_nodes):\n",
        "            node_name = 'node_{}'.format(node+1)\n",
        "            network[layer_name][node_name] = {\n",
        "                'weights': np.around(np.random.uniform(size=num_nodes_previous), decimals=2),\n",
        "                'bias': np.around(np.random.uniform(size=1), decimals=2),\n",
        "            }\n",
        "    \n",
        "        num_nodes_previous = num_nodes\n",
        "\n",
        "    return network # return the network"
      ],
      "execution_count": 40,
      "outputs": []
    },
    {
      "cell_type": "markdown",
      "metadata": {
        "button": false,
        "deletable": true,
        "new_sheet": false,
        "run_control": {
          "read_only": false
        },
        "id": "kfLB-SXPEoQP",
        "colab_type": "text"
      },
      "source": [
        "#### Use the *initialize_network* function to create a network that:\n",
        "\n",
        "1. takes 5 inputs\n",
        "2. has three hidden layers\n",
        "3. has 3 nodes in the first layer, 2 nodes in the second layer, and 3 nodes in the third layer\n",
        "4. has 1 node in the output layer\n",
        "\n",
        "Call the network **small_network**."
      ]
    },
    {
      "cell_type": "code",
      "metadata": {
        "button": false,
        "deletable": true,
        "jupyter": {
          "outputs_hidden": true
        },
        "new_sheet": false,
        "run_control": {
          "read_only": false
        },
        "id": "eynLD7JyEoQP",
        "colab_type": "code",
        "colab": {
          "base_uri": "https://localhost:8080/",
          "height": 260
        },
        "outputId": "f95a78dc-0c81-4b9b-b67a-6f7900a4dd27"
      },
      "source": [
        "small_network = initialize_network(5, 3, [3, 2, 3], 1)\n",
        "small_network"
      ],
      "execution_count": 43,
      "outputs": [
        {
          "output_type": "execute_result",
          "data": {
            "text/plain": [
              "{'layer_1': {'node_1': {'bias': array([0.33]),\n",
              "   'weights': array([0.92, 0.7 , 0.3 , 0.92, 0.1 ])},\n",
              "  'node_2': {'bias': array([0.71]),\n",
              "   'weights': array([0.28, 0.57, 0.39, 0.65, 0.86])},\n",
              "  'node_3': {'bias': array([0.18]),\n",
              "   'weights': array([0.23, 0.28, 0.96, 0.78, 0.52])}},\n",
              " 'layer_2': {'node_1': {'bias': array([0.06]),\n",
              "   'weights': array([0.98, 0.48, 0.63])},\n",
              "  'node_2': {'bias': array([0.99]), 'weights': array([0.54, 0.76, 0.89])}},\n",
              " 'layer_3': {'node_1': {'bias': array([0.52]), 'weights': array([0.76, 0.33])},\n",
              "  'node_2': {'bias': array([0.52]), 'weights': array([0.65, 0.09])},\n",
              "  'node_3': {'bias': array([0.04]), 'weights': array([0.77, 0.26])}},\n",
              " 'output': {'node_1': {'bias': array([0.22]),\n",
              "   'weights': array([0.76, 0.45, 0.57])}}}"
            ]
          },
          "metadata": {
            "tags": []
          },
          "execution_count": 43
        }
      ]
    },
    {
      "cell_type": "markdown",
      "metadata": {
        "button": false,
        "deletable": true,
        "new_sheet": false,
        "run_control": {
          "read_only": false
        },
        "id": "FfnBTb-fEoQk",
        "colab_type": "text"
      },
      "source": [
        "<a id=\"item3\"></a>"
      ]
    },
    {
      "cell_type": "markdown",
      "metadata": {
        "id": "43Y_o85cEoQq",
        "colab_type": "text"
      },
      "source": [
        "<a id='item13'></a>"
      ]
    },
    {
      "cell_type": "markdown",
      "metadata": {
        "button": false,
        "deletable": true,
        "new_sheet": false,
        "run_control": {
          "read_only": false
        },
        "id": "AbIghv7WEoQr",
        "colab_type": "text"
      },
      "source": [
        "## Compute Weighted Sum at Each Node"
      ]
    },
    {
      "cell_type": "markdown",
      "metadata": {
        "button": false,
        "deletable": true,
        "new_sheet": false,
        "run_control": {
          "read_only": false
        },
        "id": "Ww_ybDICEoQu",
        "colab_type": "text"
      },
      "source": [
        "The weighted sum at each node is computed as the dot product of the inputs and the weights plus the bias. So let's create a function called *compute_weighted_sum* that does just that."
      ]
    },
    {
      "cell_type": "code",
      "metadata": {
        "button": false,
        "deletable": true,
        "jupyter": {
          "outputs_hidden": true
        },
        "new_sheet": false,
        "run_control": {
          "read_only": false
        },
        "id": "TZfiiaJtEoQu",
        "colab_type": "code",
        "colab": {}
      },
      "source": [
        "def compute_weighted_sum(inputs, weights, bias):\n",
        "    return np.sum(inputs * weights) + bias"
      ],
      "execution_count": 44,
      "outputs": []
    },
    {
      "cell_type": "markdown",
      "metadata": {
        "button": false,
        "deletable": true,
        "new_sheet": false,
        "run_control": {
          "read_only": false
        },
        "id": "q_QZHcR4EoQ7",
        "colab_type": "text"
      },
      "source": [
        "Let's generate 5 inputs that we can feed to **small_network**."
      ]
    },
    {
      "cell_type": "code",
      "metadata": {
        "button": false,
        "deletable": true,
        "jupyter": {
          "outputs_hidden": true
        },
        "new_sheet": false,
        "run_control": {
          "read_only": false
        },
        "id": "XXyWmjIYEoQ9",
        "colab_type": "code",
        "colab": {
          "base_uri": "https://localhost:8080/",
          "height": 34
        },
        "outputId": "2d513617-e42c-488e-e1a2-a910eea316c7"
      },
      "source": [
        "from random import seed\n",
        "import numpy as np\n",
        "\n",
        "np.random.seed(12)\n",
        "inputs = np.around(np.random.uniform(size=5), decimals=2)\n",
        "\n",
        "print('The inputs to the network are {}'.format(inputs))"
      ],
      "execution_count": 45,
      "outputs": [
        {
          "output_type": "stream",
          "text": [
            "The inputs to the network are [0.15 0.74 0.26 0.53 0.01]\n"
          ],
          "name": "stdout"
        }
      ]
    },
    {
      "cell_type": "markdown",
      "metadata": {
        "button": false,
        "deletable": true,
        "new_sheet": false,
        "run_control": {
          "read_only": false
        },
        "id": "-oabgKMxEoRB",
        "colab_type": "text"
      },
      "source": [
        "#### Use the *compute_weighted_sum* function to compute the weighted sum at the first node in the first hidden layer."
      ]
    },
    {
      "cell_type": "code",
      "metadata": {
        "button": false,
        "deletable": true,
        "jupyter": {
          "outputs_hidden": true
        },
        "new_sheet": false,
        "run_control": {
          "read_only": false
        },
        "id": "Kqk2O5DkEoRE",
        "colab_type": "code",
        "colab": {
          "base_uri": "https://localhost:8080/",
          "height": 34
        },
        "outputId": "09d4bae9-3b0a-4612-b6ba-be78349cac2a"
      },
      "source": [
        "node_weights = small_network['layer_1']['node_1']['weights']\n",
        "node_bias = small_network['layer_1']['node_1']['bias']\n",
        "\n",
        "weighted_sum = compute_weighted_sum(inputs, node_weights, node_bias)\n",
        "print('The weighted sum at the first node in the hidden layer is {}'.format(np.around(weighted_sum[0], decimals=4)))"
      ],
      "execution_count": 46,
      "outputs": [
        {
          "output_type": "stream",
          "text": [
            "The weighted sum at the first node in the hidden layer is 1.5526\n"
          ],
          "name": "stdout"
        }
      ]
    },
    {
      "cell_type": "markdown",
      "metadata": {
        "button": false,
        "deletable": true,
        "new_sheet": false,
        "run_control": {
          "read_only": false
        },
        "id": "4cnpWGJrEoRS",
        "colab_type": "text"
      },
      "source": [
        "<a id=\"item4\"></a>"
      ]
    },
    {
      "cell_type": "markdown",
      "metadata": {
        "id": "HSRfZQKdEoRT",
        "colab_type": "text"
      },
      "source": [
        "<a id='item14'></a>"
      ]
    },
    {
      "cell_type": "markdown",
      "metadata": {
        "button": false,
        "deletable": true,
        "new_sheet": false,
        "run_control": {
          "read_only": false
        },
        "id": "im0gGCVREoRT",
        "colab_type": "text"
      },
      "source": [
        "## Compute Node Activation"
      ]
    },
    {
      "cell_type": "markdown",
      "metadata": {
        "button": false,
        "deletable": true,
        "new_sheet": false,
        "run_control": {
          "read_only": false
        },
        "id": "amHMrXESEoRV",
        "colab_type": "text"
      },
      "source": [
        "Recall that the output of each node is simply a non-linear tranformation of the weighted sum. We use activation functions for this mapping. Let's use the sigmoid function as the activation function here. So let's define a function that takes a weighted sum as input and returns the non-linear transformation of the input using the sigmoid function."
      ]
    },
    {
      "cell_type": "code",
      "metadata": {
        "button": false,
        "deletable": true,
        "jupyter": {
          "outputs_hidden": true
        },
        "new_sheet": false,
        "run_control": {
          "read_only": false
        },
        "id": "EP_Yxx83EoRW",
        "colab_type": "code",
        "colab": {}
      },
      "source": [
        "def node_activation(weighted_sum):\n",
        "    return 1.0 / (1.0 + np.exp(-1 * weighted_sum))"
      ],
      "execution_count": 47,
      "outputs": []
    },
    {
      "cell_type": "markdown",
      "metadata": {
        "button": false,
        "deletable": true,
        "new_sheet": false,
        "run_control": {
          "read_only": false
        },
        "id": "PiMb8ROYEoRe",
        "colab_type": "text"
      },
      "source": [
        "#### Use the *node_activation* function to compute the output of the first node in the first hidden layer."
      ]
    },
    {
      "cell_type": "code",
      "metadata": {
        "button": false,
        "deletable": true,
        "jupyter": {
          "outputs_hidden": true
        },
        "new_sheet": false,
        "run_control": {
          "read_only": false
        },
        "id": "8pI9z19TEoRe",
        "colab_type": "code",
        "colab": {
          "base_uri": "https://localhost:8080/",
          "height": 34
        },
        "outputId": "d66535a2-1ddc-41d4-cb84-437c674b00fe"
      },
      "source": [
        "node_output  = node_activation(compute_weighted_sum(inputs, node_weights, node_bias))\n",
        "print('The output of the first node in the hidden layer is {}'.format(np.around(node_output[0], decimals=4)))"
      ],
      "execution_count": 48,
      "outputs": [
        {
          "output_type": "stream",
          "text": [
            "The output of the first node in the hidden layer is 0.8253\n"
          ],
          "name": "stdout"
        }
      ]
    },
    {
      "cell_type": "markdown",
      "metadata": {
        "button": false,
        "deletable": true,
        "new_sheet": false,
        "run_control": {
          "read_only": false
        },
        "id": "xKOEh3PCEoRm",
        "colab_type": "text"
      },
      "source": [
        "<a id=\"item5\"></a>"
      ]
    },
    {
      "cell_type": "markdown",
      "metadata": {
        "id": "EoO2Y5l5EoRo",
        "colab_type": "text"
      },
      "source": [
        "<a id='item15'></a>"
      ]
    },
    {
      "cell_type": "markdown",
      "metadata": {
        "button": false,
        "deletable": true,
        "new_sheet": false,
        "run_control": {
          "read_only": false
        },
        "id": "N4TnLTpKEoRp",
        "colab_type": "text"
      },
      "source": [
        "## Forward Propagation"
      ]
    },
    {
      "cell_type": "markdown",
      "metadata": {
        "button": false,
        "deletable": true,
        "new_sheet": false,
        "run_control": {
          "read_only": false
        },
        "id": "myDz6A59EoRq",
        "colab_type": "text"
      },
      "source": [
        "The final piece of building a neural network that can perform predictions is to put everything together. So let's create a function that applies the *compute_weighted_sum* and *node_activation* functions to each node in the network and propagates the data all the way to the output layer and outputs a prediction for each node in the output layer."
      ]
    },
    {
      "cell_type": "markdown",
      "metadata": {
        "button": false,
        "deletable": true,
        "new_sheet": false,
        "run_control": {
          "read_only": false
        },
        "id": "a75Uu0v9EoRq",
        "colab_type": "text"
      },
      "source": [
        "The way we are going to accomplish this is through the following procedure:\n",
        "\n",
        "1. Start with the input layer as the input to the first hidden layer.\n",
        "2. Compute the weighted sum at the nodes of the current layer.\n",
        "3. Compute the output of the nodes of the current layer.\n",
        "4. Set the output of the current layer to be the input to the next layer.\n",
        "5. Move to the next layer in the network.\n",
        "5. Repeat steps 2 - 4 until we compute the output of the output layer."
      ]
    },
    {
      "cell_type": "code",
      "metadata": {
        "button": false,
        "deletable": true,
        "jupyter": {
          "outputs_hidden": true
        },
        "new_sheet": false,
        "run_control": {
          "read_only": false
        },
        "id": "iVRjwVu_EoRr",
        "colab_type": "code",
        "colab": {}
      },
      "source": [
        "def forward_propagate(network, inputs):\n",
        "    \n",
        "    layer_inputs = list(inputs) # start with the input layer as the input to the first hidden layer\n",
        "    \n",
        "    for layer in network:\n",
        "        \n",
        "        layer_data = network[layer]\n",
        "        \n",
        "        layer_outputs = [] \n",
        "        for layer_node in layer_data:\n",
        "        \n",
        "            node_data = layer_data[layer_node]\n",
        "        \n",
        "            # compute the weighted sum and the output of each node at the same time \n",
        "            node_output = node_activation(compute_weighted_sum(layer_inputs, node_data['weights'], node_data['bias']))\n",
        "            layer_outputs.append(np.around(node_output[0], decimals=4))\n",
        "            \n",
        "        if layer != 'output':\n",
        "            print('The outputs of the nodes in hidden layer number {} is {}'.format(layer.split('_')[1], layer_outputs))\n",
        "    \n",
        "        layer_inputs = layer_outputs # set the output of this layer to be the input to next layer\n",
        "\n",
        "    network_predictions = layer_outputs\n",
        "    return network_predictions"
      ],
      "execution_count": 49,
      "outputs": []
    },
    {
      "cell_type": "markdown",
      "metadata": {
        "button": false,
        "deletable": true,
        "new_sheet": false,
        "run_control": {
          "read_only": false
        },
        "id": "kG2Hc1fmEoRv",
        "colab_type": "text"
      },
      "source": [
        "#### Use the *forward_propagate* function to compute the prediction of our small network"
      ]
    },
    {
      "cell_type": "code",
      "metadata": {
        "button": false,
        "deletable": true,
        "jupyter": {
          "outputs_hidden": true
        },
        "new_sheet": false,
        "run_control": {
          "read_only": false
        },
        "id": "eRR52LJsEoRw",
        "colab_type": "code",
        "colab": {
          "base_uri": "https://localhost:8080/",
          "height": 86
        },
        "outputId": "ad08f935-7e89-43cd-b6d4-1ccffe224a91"
      },
      "source": [
        "predictions = forward_propagate(small_network, inputs)\n",
        "print('The predicted value by the network for the given input is {}'.format(np.around(predictions[0], decimals=4)))"
      ],
      "execution_count": 50,
      "outputs": [
        {
          "output_type": "stream",
          "text": [
            "The outputs of the nodes in hidden layer number 1 is [0.8253, 0.8359, 0.7484]\n",
            "The outputs of the nodes in hidden layer number 2 is [0.8509, 0.9392]\n",
            "The outputs of the nodes in hidden layer number 3 is [0.8141, 0.7609, 0.719]\n",
            "The predicted value by the network for the given input is 0.8307\n"
          ],
          "name": "stdout"
        }
      ]
    },
    {
      "cell_type": "markdown",
      "metadata": {
        "button": false,
        "deletable": true,
        "new_sheet": false,
        "run_control": {
          "read_only": false
        },
        "id": "uejn-r1VEoR5",
        "colab_type": "text"
      },
      "source": [
        "So we built the code to define a neural network. We can specify the number of inputs that a neural network can take, the number of hidden layers as well as the number of nodes in each hidden layer, and the number of nodes in the output layer."
      ]
    },
    {
      "cell_type": "markdown",
      "metadata": {
        "button": false,
        "deletable": true,
        "new_sheet": false,
        "run_control": {
          "read_only": false
        },
        "id": "9S9xbVaYEoR7",
        "colab_type": "text"
      },
      "source": [
        "We first use the *initialize_network* to create our neural network and define its weights and biases."
      ]
    },
    {
      "cell_type": "code",
      "metadata": {
        "button": false,
        "deletable": true,
        "jupyter": {
          "outputs_hidden": true
        },
        "new_sheet": false,
        "run_control": {
          "read_only": false
        },
        "id": "wCk9gNhLEoR8",
        "colab_type": "code",
        "colab": {}
      },
      "source": [
        "my_network = initialize_network(5, 3, [2, 3, 2], 3)"
      ],
      "execution_count": 51,
      "outputs": []
    },
    {
      "cell_type": "markdown",
      "metadata": {
        "button": false,
        "deletable": true,
        "new_sheet": false,
        "run_control": {
          "read_only": false
        },
        "id": "mBjl88QBEoSY",
        "colab_type": "text"
      },
      "source": [
        "Then, for a given input,"
      ]
    },
    {
      "cell_type": "code",
      "metadata": {
        "button": false,
        "deletable": true,
        "jupyter": {
          "outputs_hidden": true
        },
        "new_sheet": false,
        "run_control": {
          "read_only": false
        },
        "id": "Np1-UkrQEoSa",
        "colab_type": "code",
        "colab": {}
      },
      "source": [
        "inputs = np.around(np.random.uniform(size=5), decimals=2)"
      ],
      "execution_count": 52,
      "outputs": []
    },
    {
      "cell_type": "markdown",
      "metadata": {
        "button": false,
        "deletable": true,
        "new_sheet": false,
        "run_control": {
          "read_only": false
        },
        "id": "3WqiHBybEoSe",
        "colab_type": "text"
      },
      "source": [
        "we compute the network predictions."
      ]
    },
    {
      "cell_type": "code",
      "metadata": {
        "button": false,
        "deletable": true,
        "jupyter": {
          "outputs_hidden": true
        },
        "new_sheet": false,
        "run_control": {
          "read_only": false
        },
        "id": "w0V97ZAQEoSe",
        "colab_type": "code",
        "colab": {
          "base_uri": "https://localhost:8080/",
          "height": 86
        },
        "outputId": "42beef0c-45d5-4c8c-ca20-b0322af684ad"
      },
      "source": [
        "predictions = forward_propagate(my_network, inputs)\n",
        "print('The predicted values by the network for the given input are {}'.format(predictions))"
      ],
      "execution_count": 53,
      "outputs": [
        {
          "output_type": "stream",
          "text": [
            "The outputs of the nodes in hidden layer number 1 is [0.8857, 0.8889]\n",
            "The outputs of the nodes in hidden layer number 2 is [0.7822, 0.6965, 0.7411]\n",
            "The outputs of the nodes in hidden layer number 3 is [0.868, 0.881]\n",
            "The predicted values by the network for the given input are [0.8952, 0.8222, 0.8035]\n"
          ],
          "name": "stdout"
        }
      ]
    }
  ]
}